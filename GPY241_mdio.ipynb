{
 "cells": [
  {
   "cell_type": "code",
   "execution_count": 1,
   "metadata": {},
   "outputs": [
    {
     "data": {
      "text/plain": [
       "0"
      ]
     },
     "execution_count": 1,
     "metadata": {},
     "output_type": "execute_result"
    }
   ],
   "source": [
    "import pyrpio\n",
    "from pyrpio import mdio\n",
    "\n",
    "# Configure options\n",
    "#options = pyrpio.RPIOOptions(\n",
    "options = pyrpio.RPIOConfigs(\n",
    "  gpiomem=True\n",
    ")\n",
    "# Must be called prior to using any interface\n",
    "pyrpio.configure(options)\n",
    "\n",
    "### MDIO Operations ###\n",
    "\n",
    "# Create bus using GPIO_PIN 23 [clk] and 24 [data](bit-bang)\n",
    "# GPIO_PIN no. and pin no. are different. Use command \"pinout\" in RP to check it.\n",
    "# pin 6 / 20 / 25 are all GND\n",
    "mdio_bus = mdio.MDIO(23, 24)\n",
    "mdio_bus.open()"
   ]
  },
  {
   "cell_type": "code",
   "execution_count": 4,
   "metadata": {},
   "outputs": [],
   "source": [
    "def stat(pid):\n",
    "    phy_LS = (mdio_bus.read_c22_register(pid, 1) & 0x4) >> 2\n",
    "    TPI = mdio_bus.read_c22_register(pid, 24)\n",
    "    sgmii_stat = mdio_bus.read_c45_register(pid, 30, 9)\n",
    "    sgmii_LS = (sgmii_stat & 4) >> 2\n",
    "    sgmii_Speed = sgmii_stat & 3\n",
    "    fw = mdio_bus.read_c22_register(pid, 30)\n",
    "    print(\"PHY ID: \", pid)\n",
    "    print(\"FW version: 0x%04x\"%fw)\n",
    "    LS_list = [\"Down\", \"Up\"]\n",
    "    LS_speed_list = [\"10Mbps\", \"100Mbps\", \"1000Mbps\", \"Autonegotiation mode\", \"2.5Gbps\"]\n",
    "    print (\"PHY_LS: \", LS_list[phy_LS], \" -- Speed: \", LS_speed_list[TPI&0x7])\n",
    "    sgmii_speed_list = [\"10Mbps\", \"100Mbps\", \"1Gbps\", \"2.5Gbps\"]\n",
    "    print(\"SGMII LS: \", LS_list[sgmii_LS], \" -- Speed: \", sgmii_speed_list[sgmii_Speed])\n",
    "    print(\"\")\n",
    "    return"
   ]
  },
  {
   "cell_type": "code",
   "execution_count": 5,
   "metadata": {},
   "outputs": [
    {
     "name": "stdout",
     "output_type": "stream",
     "text": [
      "PHY ID:  28\n",
      "FW version: 0x8959\n",
      "PHY_LS:  Down  -- Speed:  Autonegotiation mode\n",
      "SGMII LS:  Down  -- Speed:  10Mbps\n",
      "\n",
      "PHY ID:  29\n",
      "FW version: 0x8959\n",
      "PHY_LS:  Down  -- Speed:  Autonegotiation mode\n",
      "SGMII LS:  Down  -- Speed:  10Mbps\n",
      "\n",
      "PHY ID:  30\n",
      "FW version: 0x8959\n",
      "PHY_LS:  Down  -- Speed:  Autonegotiation mode\n",
      "SGMII LS:  Down  -- Speed:  10Mbps\n",
      "\n",
      "PHY ID:  31\n",
      "FW version: 0x8959\n",
      "PHY_LS:  Down  -- Speed:  Autonegotiation mode\n",
      "SGMII LS:  Down  -- Speed:  10Mbps\n",
      "\n"
     ]
    }
   ],
   "source": [
    "stat(0x1c)\n",
    "stat(0x1d)\n",
    "stat(0x1e)\n",
    "stat(0x1f)"
   ]
  },
  {
   "cell_type": "markdown",
   "metadata": {},
   "source": [
    "# Read register 30.14 for Junc. temperature"
   ]
  },
  {
   "cell_type": "code",
   "execution_count": 29,
   "metadata": {},
   "outputs": [],
   "source": [
    "cal = [ [0, -52], [3, -51], [6, -50], [9, -49],[12, -48], [16, -47], [19, -46], [22, -45], \\\n",
    "        [26, -44], [29, -43], [33, -42], [36, -41],[39, -40], [43, -39], [46, -38], [50, -37],\\\n",
    "\t\t[53, -36], [57, -35], [60, -34], [64, -33],\n",
    "\t\t[67, -32], [71, -31], [74, -30], [78, -29],\n",
    "\t\t[81, -28], [85, -27], [89, -26], [92, -25],\n",
    "\t\t[96, -24], [99, -23], [103, -22], [107, -21],\n",
    "\t\t[111, -20], [114, -19], [118, -18], [122, -17],\n",
    "\t\t[126, -16], [129, -15], [133, -14], [137, -13],\n",
    "\t\t[141, -12], [145, -11], [149, -10], [152, -9],\n",
    "\t\t[156, -8], [160, -7], [164, -6], [168, -5],\n",
    "\t\t[172, -4], [176, -3], [180, -2], [184, -1],\n",
    "\t\t[188, 0], [193, 1], [197, 2], [201, 3],\n",
    "\t\t[205, 4], [209, 5], [213, 6], [217, 7],\n",
    "\t\t[222, 8], [226, 9], [230, 10], [234, 11],\n",
    "\t\t[239, 12], [243, 13], [247, 14], [252, 15],\n",
    "\t\t[256, 16], [261, 17], [265, 18], [270, 19],\n",
    "\t\t[274, 20], [279, 21], [283, 22], [288, 23],\n",
    "\t\t[292, 24], [297, 25], [301, 26], [306, 27],\n",
    "\t\t[311, 28], [315, 29], [320, 30], [325, 31],\n",
    "\t\t[330, 32], [334, 33], [339, 34], [344, 35],\n",
    "\t\t[349, 36], [354, 37], [359, 38], [364, 39],\n",
    "\t\t[369, 40], [374, 41], [379, 42], [384, 43],\n",
    "\t\t[389, 44], [394, 45], [399, 46], [404, 47],\n",
    "\t\t[409, 48], [414, 49], [420, 50], [425, 51],\n",
    "\t\t[430, 52], [436, 53], [441, 54], [446, 55],\n",
    "\t\t[452, 56], [457, 57], [463, 58], [468, 59],\n",
    "\t\t[474, 60], [479, 61], [485, 62], [490, 63],\n",
    "\t\t[496, 64], [502, 65], [507, 66], [513, 67],\n",
    "\t\t[519, 68], [525, 69], [530, 70], [536, 71],\n",
    "\t\t[542, 72], [548, 73], [554, 74], [560, 75],\n",
    "\t\t[566, 76], [572, 77], [578, 78], [584, 79],\n",
    "\t\t[591, 80], [597, 81], [603, 82], [609, 83],\n",
    "\t\t[616, 84], [622, 85], [628, 86], [635, 87],\n",
    "\t\t[641, 88], [648, 89], [654, 90], [661, 91],\n",
    "\t\t[667, 92], [674, 93], [680, 94], [687, 95],\n",
    "\t\t[694, 96], [701, 97], [708, 98], [714, 99],\n",
    "\t\t[721, 100], [728, 101], [735, 102], [742, 103],\n",
    "\t\t[749, 104], [756, 105], [764, 106], [771, 107],\n",
    "\t\t[778, 108], [785, 109], [793, 110], [800, 111],\n",
    "\t\t[807, 112], [815, 113], [822, 114], [830, 115],\n",
    "\t\t[838, 116], [845, 117], [853, 118], [861, 119],\n",
    "\t\t[869, 120], [876, 121], [884, 122], [892, 123],\n",
    "\t\t[900, 124], [908, 125], [917, 126], [925, 127],\n",
    "\t\t[933, 128], [941, 129], [950, 130], [958, 131],\n",
    "\t\t[967, 132], [975, 133], [984, 134], [993, 135],\n",
    "\t\t[1002, 136], [1010, 137], [1019, 138],\n",
    "\t]\n",
    "\n",
    "def temp(phyid):\n",
    "    # Read register 30.14 from phy id 0x1c-0x1f (CLAUSE-45)\n",
    "    d = mdio_bus.read_c45_register(phyid, 30, 14)\n",
    "    #print (\"0x%04x\"%d, d)\n",
    "\n",
    "    a = -53\n",
    "    for i in cal:\n",
    "        if d < i[0]:\n",
    "            T = a\n",
    "            break\n",
    "        else:\n",
    "            a = i[1]\n",
    "    print (\"Phy_id:\", phyid, \"  Junc. Temp =\", T)\n",
    "    return T\n",
    "        "
   ]
  },
  {
   "cell_type": "code",
   "execution_count": 30,
   "metadata": {},
   "outputs": [
    {
     "name": "stdout",
     "output_type": "stream",
     "text": [
      "Phy_id: 28   Junc. Temp = 54\n",
      "Phy_id: 29   Junc. Temp = 54\n",
      "Phy_id: 30   Junc. Temp = 54\n",
      "Phy_id: 31   Junc. Temp = 54\n"
     ]
    },
    {
     "data": {
      "text/plain": [
       "54"
      ]
     },
     "execution_count": 30,
     "metadata": {},
     "output_type": "execute_result"
    }
   ],
   "source": [
    "temp(0x1c)\n",
    "temp(0x1d)\n",
    "temp(0x1e)\n",
    "temp(0x1f)\n"
   ]
  },
  {
   "cell_type": "markdown",
   "metadata": {},
   "source": [
    "## Disable 2500Base-T capability in ANEG"
   ]
  },
  {
   "cell_type": "code",
   "execution_count": 8,
   "metadata": {},
   "outputs": [
    {
     "name": "stdout",
     "output_type": "stream",
     "text": [
      "phy_id: 28\n",
      "Before: 0x40a2\n",
      "After: 0x4002\n",
      "phy_id: 29\n",
      "Before: 0x40a2\n",
      "After: 0x4002\n",
      "phy_id: 30\n",
      "Before: 0x40a2\n",
      "After: 0x4002\n",
      "phy_id: 31\n",
      "Before: 0x40a2\n",
      "After: 0x4002\n"
     ]
    }
   ],
   "source": [
    "def disable_2G5BT(pid):\n",
    "    # Read MMD 7.32, default value = 0x40a2\n",
    "    print (\"phy_id:\", pid)\n",
    "    d = mdio_bus.read_c45_register(pid, 7, 32)\n",
    "    print (\"Before: 0x%04x\"%d)\n",
    "    # Write MMD 7.32 = 0x4002 to disable 2.5GBASE-T capability\n",
    "    mdio_bus.write_c45_register(pid, 7, 32, 0x4002)\n",
    "    d = mdio_bus.read_c45_register(pid, 7, 32)\n",
    "    print (\"After: 0x%04x\"%d)\n",
    "    return\n",
    "\n",
    "disable_2G5BT(0x1c)\n",
    "disable_2G5BT(0x1d)\n",
    "disable_2G5BT(0x1e)\n",
    "disable_2G5BT(0x1f)\n"
   ]
  },
  {
   "cell_type": "markdown",
   "metadata": {},
   "source": [
    "## LED configuration"
   ]
  },
  {
   "cell_type": "code",
   "execution_count": 19,
   "metadata": {},
   "outputs": [
    {
     "name": "stdout",
     "output_type": "stream",
     "text": [
      "0xff00,  phy_id: 0x1c\n",
      "0xff00,  phy_id: 0x1d\n",
      "0xfe00,  phy_id: 0x1e\n",
      "0xff00,  phy_id: 0x1f\n"
     ]
    }
   ],
   "source": [
    "# Read PHY_LED 0.27\n",
    "def rd_phy_led(pid):\n",
    "    d = mdio_bus.read_c22_register(pid, 27)\n",
    "    print (\"0x%04x,\"%d, \" phy_id: 0x%02x\"%pid)\n",
    "rd_phy_led(0x1c)\n",
    "rd_phy_led(0x1d)\n",
    "rd_phy_led(0x1e)\n",
    "rd_phy_led(0x1f)\n"
   ]
  },
  {
   "cell_type": "code",
   "execution_count": 24,
   "metadata": {},
   "outputs": [
    {
     "name": "stdout",
     "output_type": "stream",
     "text": [
      "phy_id: 0x1c,  LED0 = 0x0330, LED1 = 0x0380, LED2 = 0x0340,\n",
      "phy_id: 0x1d,  LED0 = 0x0330, LED1 = 0x0380, LED2 = 0x0340,\n",
      "phy_id: 0x1e,  LED0 = 0x0330, LED1 = 0x0380, LED2 = 0x0340,\n",
      "phy_id: 0x1f,  LED0 = 0x0330, LED1 = 0x0380, LED2 = 0x0340,\n"
     ]
    }
   ],
   "source": [
    "# Read VSPEC1_LED0-2 (slow blink, pulse, constant on, fast blink)\n",
    "def rd_vspec_led(pid):\n",
    "    d = mdio_bus.read_c45_register(pid, 0x1e, 1)\n",
    "    e = mdio_bus.read_c45_register(pid, 0x1e, 2)\n",
    "    f = mdio_bus.read_c45_register(pid, 0x1e, 3)\n",
    "    print(\"phy_id: 0x%02x, \"%pid, \"LED0 = 0x%04x,\"%d, \"LED1 = 0x%04x,\"%e, \"LED2 = 0x%04x,\"%f, )\n",
    "\n",
    "rd_vspec_led(0x1c)\n",
    "rd_vspec_led(0x1d)\n",
    "rd_vspec_led(0x1e)\n",
    "rd_vspec_led(0x1f)\n"
   ]
  },
  {
   "cell_type": "code",
   "execution_count": 28,
   "metadata": {},
   "outputs": [
    {
     "data": {
      "text/plain": [
       "0"
      ]
     },
     "execution_count": 28,
     "metadata": {},
     "output_type": "execute_result"
    }
   ],
   "source": [
    "mdio_bus.write_c22_register(0x1e, 27, 0xf700)"
   ]
  },
  {
   "cell_type": "markdown",
   "metadata": {},
   "source": [
    "## Close pyMDIO master"
   ]
  },
  {
   "cell_type": "code",
   "execution_count": 4,
   "metadata": {},
   "outputs": [
    {
     "data": {
      "text/plain": [
       "0"
      ]
     },
     "execution_count": 4,
     "metadata": {},
     "output_type": "execute_result"
    }
   ],
   "source": [
    "# Close up shop\n",
    "mdio_bus.close()"
   ]
  },
  {
   "cell_type": "code",
   "execution_count": 6,
   "metadata": {},
   "outputs": [
    {
     "name": "stdout",
     "output_type": "stream",
     "text": [
      "0x67c9\n",
      "0x67c9\n",
      "0x67c9\n",
      "0x67c9\n"
     ]
    }
   ],
   "source": [
    "d = mdio_bus.read_c22_register(0x1c, 2)\n",
    "print (\"0x%04x\"%d)\n",
    "d = mdio_bus.read_c22_register(0x1d, 2)\n",
    "print (\"0x%04x\"%d)\n",
    "d = mdio_bus.read_c22_register(0x1e, 2)\n",
    "print (\"0x%04x\"%d)\n",
    "d = mdio_bus.read_c22_register(0x1f, 2)\n",
    "print (\"0x%04x\"%d)"
   ]
  },
  {
   "cell_type": "code",
   "execution_count": 14,
   "metadata": {},
   "outputs": [
    {
     "name": "stdout",
     "output_type": "stream",
     "text": [
      "0x55aa\n"
     ]
    }
   ],
   "source": [
    "mdio_bus.write_c22_register(0, 25, 0x55aa)\n",
    "d = mdio_bus.read_c22_register(0,25)\n",
    "print (\"0x%04x\"%d)"
   ]
  },
  {
   "cell_type": "code",
   "execution_count": 15,
   "metadata": {},
   "outputs": [
    {
     "name": "stdout",
     "output_type": "stream",
     "text": [
      "0xcc33\n"
     ]
    }
   ],
   "source": [
    "mdio_bus.write_c45_register(0,0, 25, 0xcc33)\n",
    "d = mdio_bus.read_c45_register(0,0,25)\n",
    "print (\"0x%04x\"%d)"
   ]
  },
  {
   "cell_type": "code",
   "execution_count": 11,
   "metadata": {},
   "outputs": [
    {
     "data": {
      "text/plain": [
       "[12482, 816, 896, 832, 896]"
      ]
     },
     "execution_count": 11,
     "metadata": {},
     "output_type": "execute_result"
    }
   ],
   "source": [
    "# Read register set from device 0x30 (CLAUSE-45)\n",
    "mdio_bus.read_c45_registers(0x1c, 30, [8,1,2,3,4])"
   ]
  },
  {
   "cell_type": "markdown",
   "metadata": {},
   "source": [
    "## PDI (XPCS ...) access\n",
    "#### USXGMII status and configuration"
   ]
  },
  {
   "cell_type": "code",
   "execution_count": 6,
   "metadata": {},
   "outputs": [],
   "source": [
    "import time\n",
    "\n",
    "def PHY_wr_mmd(p, a, reg, d):\n",
    "    print (\"port set phy-mmd-reg port 0 mmd-addr\", a, \"mmd-reg\", reg>>1, \"data 0x%04x\"%d)\n",
    "    mdio_bus.write_c45_register(p, a, reg>>1, d)\n",
    "    return\n",
    "def PHY_rd_mmd(p,a,reg):\n",
    "    ret = mdio_bus.read_c45_register(p,a,reg>>1)\n",
    "    print (\"port get phy-mmd-reg port 0 mmd-addr\", a, \"mmd-reg\", reg>>1)\n",
    "    return ret\n",
    "\n",
    "def gpy2xx_mbox_write32(pid, addr, data, pr = 0):\n",
    "    dl = data & 0xffff\n",
    "    PHY_wr_mmd(pid, 30, 10, dl) # data low, VSPEC1_MBOX_DATA\n",
    "    PHY_wr_mmd(pid, 30, 26, data>>16) # data high, VSPEC1_MBOX_DATA_HIGH\n",
    "    PHY_wr_mmd(pid, 30, 12, addr & 0xFFFF) # addr low, VSPEC1_MBOX_ADDRLO\n",
    "    cmd = ((addr >> 16) & 0xff) + (5<<8)\n",
    "    #cmd_status = PHY_rd_mmd(pid, 30, 14)  # bit15: ready, bit14: fail\n",
    "    if pr == 1:\n",
    "        print (\"wr32: pid =\", pid, \"addr = 0x%04x\"%addr, \"data = 0x%04x\"%data, \"mbox_cmd = 0x%04x\"%cmd, \" : mbox status before write32 = 0x%04x\"%cmd_status)\n",
    "    PHY_wr_mmd(pid, 30, 14, cmd) # \n",
    "    time.sleep(0.1)\n",
    "    return\n",
    "    \n",
    "def gpy2xx_mbox_write16(pid, addr, data, pr = 0):\n",
    "    PHY_wr_mmd(pid, 30, 10, data & 0xFFFF) # data low, VSPEC1_MBOX_DATA\n",
    "    PHY_wr_mmd(pid, 30, 12, addr & 0xFFFF) # addr low, VSPEC1_MBOX_ADDRLO\n",
    "    cmd = ((addr >> 16) & 0xff) + (1<<8)\n",
    "    #cmd_status = PHY_rd_mmd(pid, 30, 14)  # bit15: ready, bit14: fail\n",
    "    if pr == 1:\n",
    "        print (\"wr16: pid =\", pid, \"addr = 0x%04x\"%addr, \"data = 0x%04x\"%data, \"mbox_cmd = 0x%04x\"%cmd, \" : mbox status before write16 = 0x%04x\"%cmd_status)\n",
    "    PHY_wr_mmd(pid, 30, 14, cmd) # \n",
    "    time.sleep(0.1)\n",
    "    return\n",
    "    \n",
    "def gpy2xx_mbox_read16(pid, addr, pr = 0):\n",
    "    PHY_wr_mmd(pid, 30, 12, addr & 0xFFFF) # addr low, VSPEC1_MBOX_ADDRLO\n",
    "    cmd = ((addr >> 16) & 0xff) + (0<<8)\n",
    "    #cmd_status = PHY_rd_mmd(pid, 30, 14)  # bit15: ready, bit14: fail\n",
    "    if pr == 1:\n",
    "        print (\"rd16: pid =\", pid, \"addr = 0x%04x\"%addr, \"mbox_cmd = 0x%04x\"%cmd, \" : mbox status before read16 = 0x%04x\"%cmd_status)\n",
    "    PHY_wr_mmd(pid, 30, 14, cmd) # \n",
    "    time.sleep(0.1)\n",
    "    #cmd_status = PHY_rd_mmd(pid, 30, 14)  # bit15: ready, bit14: fail\n",
    "    ret = PHY_rd_mmd(pid, 30, 10)\n",
    "    if pr == 1:\n",
    "        print (\"rd16: read data = 0x%04x\"%ret, \"mbox status = 0x%04x\"%cmd_status)\n",
    "    return ret\n",
    "    \n",
    "def PHY_XPCS_HWRD(pid, xpcs_addr, pr = 0):\n",
    "    gpy2xx_mbox_write32(pid, 0x00D3DFFC, xpcs_addr >> 10, pr)\n",
    "    ret = gpy2xx_mbox_read16(pid, 0x00D3DC00 + (xpcs_addr & 0x3ff), pr)\n",
    "    return ret\n",
    "\n",
    "def PHY_XPCS_HWWR(pid, xpcs_addr, data, pr = 0):\n",
    "    gpy2xx_mbox_write32(pid, 0x00D3DFFC, xpcs_addr >> 10, pr)\n",
    "    gpy2xx_mbox_write16(pid, 0x00D3DC00 + (xpcs_addr & 0x3ff), data, pr)\n",
    "    "
   ]
  },
  {
   "cell_type": "code",
   "execution_count": 7,
   "metadata": {},
   "outputs": [
    {
     "name": "stdout",
     "output_type": "stream",
     "text": [
      "port set phy-mmd-reg port 0 mmd-addr 30 mmd-reg 5 data 0x1f00\n",
      "port set phy-mmd-reg port 0 mmd-addr 30 mmd-reg 13 data 0x0000\n",
      "port set phy-mmd-reg port 0 mmd-addr 30 mmd-reg 6 data 0xdffc\n",
      "port set phy-mmd-reg port 0 mmd-addr 30 mmd-reg 7 data 0x05d3\n",
      "port set phy-mmd-reg port 0 mmd-addr 30 mmd-reg 6 data 0xdc04\n",
      "port set phy-mmd-reg port 0 mmd-addr 30 mmd-reg 7 data 0x00d3\n",
      "port get phy-mmd-reg port 0 mmd-addr 30 mmd-reg 5\n",
      "mii_status: 0x010d ---- 0x007C0004 : XPCS_VS_MII_MMD_XPCS_SR_MII_STS\n"
     ]
    }
   ],
   "source": [
    "XPCS_VS_MII_MMD_XPCS_SR_MII_STS = 0x007C0004\n",
    "mii_status = PHY_XPCS_HWRD(0x1c, XPCS_VS_MII_MMD_XPCS_SR_MII_STS, 0)\n",
    "print (\"mii_status: 0x%04x\"%mii_status, \"---- 0x007C0004 : XPCS_VS_MII_MMD_XPCS_SR_MII_STS\")"
   ]
  },
  {
   "cell_type": "code",
   "execution_count": 10,
   "metadata": {},
   "outputs": [
    {
     "name": "stdout",
     "output_type": "stream",
     "text": [
      "port set phy-mmd-reg port 0 mmd-addr 30 mmd-reg 5 data 0x0100\n",
      "port set phy-mmd-reg port 0 mmd-addr 30 mmd-reg 13 data 0x0000\n",
      "port set phy-mmd-reg port 0 mmd-addr 30 mmd-reg 6 data 0xdffc\n",
      "port set phy-mmd-reg port 0 mmd-addr 30 mmd-reg 7 data 0x05d3\n",
      "port set phy-mmd-reg port 0 mmd-addr 30 mmd-reg 6 data 0xdc2c\n",
      "port set phy-mmd-reg port 0 mmd-addr 30 mmd-reg 7 data 0x00d3\n",
      "port get phy-mmd-reg port 0 mmd-addr 30 mmd-reg 5\n",
      "mii_mode: 0x0050 ---- 0x0004002C : XPCS_PMA_MMD_XPCS_SR_PMA_EXT_ABL\n"
     ]
    }
   ],
   "source": [
    "XPCS_PMA_MMD_XPCS_SR_PMA_EXT_ABL = 0x0004002C\n",
    "mii_mode = PHY_XPCS_HWRD(0x1c, XPCS_PMA_MMD_XPCS_SR_PMA_EXT_ABL, 0)\n",
    "print (\"mii_mode: 0x%04x\"%mii_mode, \"---- 0x0004002C : XPCS_PMA_MMD_XPCS_SR_PMA_EXT_ABL\")\n",
    "# 0x0050 = usxgmii"
   ]
  },
  {
   "cell_type": "code",
   "execution_count": 13,
   "metadata": {},
   "outputs": [
    {
     "name": "stdout",
     "output_type": "stream",
     "text": [
      "port set phy-mmd-reg port 0 mmd-addr 30 mmd-reg 5 data 0x0100\n",
      "port set phy-mmd-reg port 0 mmd-addr 30 mmd-reg 13 data 0x0000\n",
      "port set phy-mmd-reg port 0 mmd-addr 30 mmd-reg 6 data 0xdffc\n",
      "port set phy-mmd-reg port 0 mmd-addr 30 mmd-reg 7 data 0x05d3\n",
      "port set phy-mmd-reg port 0 mmd-addr 30 mmd-reg 6 data 0xdc04\n",
      "port set phy-mmd-reg port 0 mmd-addr 30 mmd-reg 7 data 0x00d3\n",
      "port get phy-mmd-reg port 0 mmd-addr 30 mmd-reg 5\n",
      "Read PMA RLU: 0x0006 ---- 0x00040004 : XPCS_PMA_MMD_XPCS_SR_PMA_STATUS1\n"
     ]
    }
   ],
   "source": [
    "XPCS_PMA_MMD_XPCS_SR_PMA_STATUS1 = 0x00040004\n",
    "pma_rlu = PHY_XPCS_HWRD(0x1c, XPCS_PMA_MMD_XPCS_SR_PMA_STATUS1, 0)\n",
    "print (\"Read PMA RLU: 0x%04x\"%pma_rlu, \"---- 0x00040004 : XPCS_PMA_MMD_XPCS_SR_PMA_STATUS1\")\n",
    "pma_rlu = PHY_XPCS_HWRD(0x1c, XPCS_PMA_MMD_XPCS_SR_PMA_STATUS1, 0)\n",
    "print (\"Read PMA RLU: 0x%04x\"%pma_rlu, \"---- 0x00040004 : XPCS_PMA_MMD_XPCS_SR_PMA_STATUS1\")"
   ]
  },
  {
   "cell_type": "code",
   "execution_count": 14,
   "metadata": {},
   "outputs": [
    {
     "name": "stdout",
     "output_type": "stream",
     "text": [
      "port set phy-mmd-reg port 0 mmd-addr 30 mmd-reg 5 data 0x0300\n",
      "port set phy-mmd-reg port 0 mmd-addr 30 mmd-reg 13 data 0x0000\n",
      "port set phy-mmd-reg port 0 mmd-addr 30 mmd-reg 6 data 0xdffc\n",
      "port set phy-mmd-reg port 0 mmd-addr 30 mmd-reg 7 data 0x05d3\n",
      "port set phy-mmd-reg port 0 mmd-addr 30 mmd-reg 6 data 0xdc04\n",
      "port set phy-mmd-reg port 0 mmd-addr 30 mmd-reg 7 data 0x00d3\n",
      "port get phy-mmd-reg port 0 mmd-addr 30 mmd-reg 5\n",
      "Read PCS RLU: 0x0042 ---- 0x000c0004 : XPCS_XS_PCS_MMD_XPCS_SR_XS_PCS_STS1\n",
      "port set phy-mmd-reg port 0 mmd-addr 30 mmd-reg 5 data 0x0300\n",
      "port set phy-mmd-reg port 0 mmd-addr 30 mmd-reg 13 data 0x0000\n",
      "port set phy-mmd-reg port 0 mmd-addr 30 mmd-reg 6 data 0xdffc\n",
      "port set phy-mmd-reg port 0 mmd-addr 30 mmd-reg 7 data 0x05d3\n",
      "port set phy-mmd-reg port 0 mmd-addr 30 mmd-reg 6 data 0xdc04\n",
      "port set phy-mmd-reg port 0 mmd-addr 30 mmd-reg 7 data 0x00d3\n",
      "port get phy-mmd-reg port 0 mmd-addr 30 mmd-reg 5\n",
      "Read PCS RLU: 0x0046 ---- 0x000c0004 : XPCS_XS_PCS_MMD_XPCS_SR_XS_PCS_STS1\n"
     ]
    }
   ],
   "source": [
    "XPCS_XS_PCS_MMD_XPCS_SR_XS_PCS_STS1 = 0x000c0004\n",
    "pcs_rlu = PHY_XPCS_HWRD(0x1c, XPCS_XS_PCS_MMD_XPCS_SR_XS_PCS_STS1, 0)\n",
    "print (\"Read PCS RLU: 0x%04x\"%pcs_rlu, \"---- 0x000c0004 : XPCS_XS_PCS_MMD_XPCS_SR_XS_PCS_STS1\")\n",
    "pcs_rlu = PHY_XPCS_HWRD(0x1c, XPCS_XS_PCS_MMD_XPCS_SR_XS_PCS_STS1, 0)\n",
    "print (\"Read PCS RLU: 0x%04x\"%pcs_rlu, \"---- 0x000c0004 : XPCS_XS_PCS_MMD_XPCS_SR_XS_PCS_STS1\")\n"
   ]
  },
  {
   "cell_type": "markdown",
   "metadata": {},
   "source": [
    "## Smartbyte (Paiteng S6800-8TH-4XF) \n",
    "\n",
    "#### Read USXGMII status\n",
    "port set phy-mmd-reg port 0 mmd-addr 30 mmd-reg 5 data 0x1f00  \n",
    "port set phy-mmd-reg port 0 mmd-addr 30 mmd-reg 13 data 0x0000  \n",
    "port set phy-mmd-reg port 0 mmd-addr 30 mmd-reg 6 data 0xdffc  \n",
    "port set phy-mmd-reg port 0 mmd-addr 30 mmd-reg 7 data 0x05d3  \n",
    "port set phy-mmd-reg port 0 mmd-addr 30 mmd-reg 6 data 0xdc04  \n",
    "port set phy-mmd-reg port 0 mmd-addr 30 mmd-reg 7 data 0x00d3  \n",
    "port get phy-mmd-reg port 0 mmd-addr 30 mmd-reg 5  \n",
    "\n",
    "port set phy-mmd-reg port 4 mmd-addr 30 mmd-reg 5 data 0x1f00  \n",
    "port set phy-mmd-reg port 4 mmd-addr 30 mmd-reg 13 data 0x0000  \n",
    "port set phy-mmd-reg port 4 mmd-addr 30 mmd-reg 6 data 0xdffc  \n",
    "port set phy-mmd-reg port 4 mmd-addr 30 mmd-reg 7 data 0x05d3  \n",
    "port set phy-mmd-reg port 4 mmd-addr 30 mmd-reg 6 data 0xdc04  \n",
    "port set phy-mmd-reg port 4 mmd-addr 30 mmd-reg 7 data 0x00d3  \n",
    "port get phy-mmd-reg port 4 mmd-addr 30 mmd-reg 5  \n",
    "\n",
    "#### Write USXGMII PCS SW Reset\n",
    "port set phy-mmd-reg port 0 mmd-addr 30 mmd-reg 5 data 0x0380  \n",
    "port set phy-mmd-reg port 0 mmd-addr 30 mmd-reg 13 data 0x0000  \n",
    "port set phy-mmd-reg port 0 mmd-addr 30 mmd-reg 6 data 0xdffc  \n",
    "port set phy-mmd-reg port 0 mmd-addr 30 mmd-reg 7 data 0x05d3  \n",
    "port set phy-mmd-reg port 0 mmd-addr 30 mmd-reg 5 data 0xa200  \n",
    "port set phy-mmd-reg port 0 mmd-addr 30 mmd-reg 6 data 0xdc00  \n",
    "port set phy-mmd-reg port 0 mmd-addr 30 mmd-reg 7 data 0x05d3  \n",
    "\n",
    "port set phy-mmd-reg port 4 mmd-addr 30 mmd-reg 5 data 0x0380  \n",
    "port set phy-mmd-reg port 4 mmd-addr 30 mmd-reg 13 data 0x0000  \n",
    "port set phy-mmd-reg port 4 mmd-addr 30 mmd-reg 6 data 0xdffc  \n",
    "port set phy-mmd-reg port 4 mmd-addr 30 mmd-reg 7 data 0x05d3  \n",
    "port set phy-mmd-reg port 4 mmd-addr 30 mmd-reg 5 data 0xa200  \n",
    "port set phy-mmd-reg port 4 mmd-addr 30 mmd-reg 6 data 0xdc00  \n",
    "port set phy-mmd-reg port 4 mmd-addr 30 mmd-reg 7 data 0x05d3  \n",
    "\n",
    "    \n",
    "    \n",
    "    \n",
    "    RTK.0>   \n",
    "RTK.0>  \n",
    "RTK.0>  \n",
    "RTK.0� port set phy-mmd-reg port 0 mmd-addr 30 mmd-reg 5 data 0x1f00  \n",
    "RTK.0> port set phy-mmd-reg port 0 mmd-addr 30 mmd-reg 13 data 0x0000  \n",
    "RTK.0� port set phy-mmd-reg port 0 mmd-addr 30 mmd-reg 6 data 0xdffc  \n",
    "RTK.0> port set phy-mmd-reg port 0 mmd-addr 30 mmd-reg 7 data 0x05d3  \n",
    "RTK.0> port set phy-mmd-reg port 0 mmd-addr 30 mmd-reg 6 data 0xdc04  \n",
    "RTK.0> port set phy-mmd-reg prt 0 mmd-addr 30 mmd-reg 7 data 0x00d3  \n",
    "RTK.0> port get phy-mmd-reg port 0 mmd-addr 30 mmd-reg 5  \n",
    "  \n",
    "Port : 0  \n",
    "    MMD Addr 30 :   \n",
    "        0x05          0x0109    \n",
    "RTK.0>   \n",
    "RTK.0>   \n",
    "RTK.0> port set phy-mmd-reg port 4 mmd-addr 30 mmd-reg 5 data 0x1f00  \n",
    "RTK.0� port set phy-mmd-reg port 4 mmd-addr 30 mmd-reg 13 data 0x0000  \n",
    "RTK.0� port set phy-mmd-reg port 4 mmd-addr 30 mmd-reg 6 data 0xdffc   \n",
    "RTK.0> port set phy-mmd-reg port 4 mmd-addr 30 mmd-reg 7 data 0x05d3  \n",
    "RTK.0> port set phy-mmd-reg port 4 mmd-addr 30 mmd-reg 6 data 0xdc04  \n",
    "RTK.0> port set phy-mmd-reg port 4 mmd-addr 30 mmd-reg 7 data 0x00d3  \n",
    "RTK.0> port get phy-mmd-reg port 4 mmd-addr 30 mmd-reg 5  \n",
    "  \n",
    "Port : 4  \n",
    "    MMD Addr 30 :   \n",
    "        0x05          0x0109    \n",
    "RTK.0> port set phy-mmd-reg port 0 mmd-addr 30 mmd-reg 5 data 0x1f00  \n",
    "RTK.0> port set phy-mmd-reg port 0 mmd-addr 30 mmd-reg 13 data 0x0000  \n",
    "RTK.0> port set phy-mmd-reg port 0 mmd-addr 30 mmd-reg 6 data 0xdffc  \n",
    "RTK.0> port set phy-mmd-reg port 0 mmd-addr 30 mmd-reg 7 data 0x05d3  \n",
    "RTK.0> port set phy-mmd-reg port 0 mmd-addr 30 mmd-reg 6 data 0xdc04  \n",
    "RTK.0> port set phy-mmd-reg port 0 mmd-addr 30 mmd-reg 7 data 0x00d3  \n",
    "RTK.0> port get phy-mmd-reg port 0 mmd-addr 30 mmd-reg 5  \n",
    "  \n",
    "Port : 0  \n",
    "    MMD Addr 30 :   \n",
    "        0x05          0x010D    \n",
    "  "
   ]
  },
  {
   "cell_type": "code",
   "execution_count": 34,
   "metadata": {},
   "outputs": [
    {
     "name": "stdout",
     "output_type": "stream",
     "text": [
      "\u001b[37;42m,--------------------------------.\u001b[0m\r\n",
      "\u001b[37;42m| \u001b[40m\u001b[1;31mo\u001b[0m\u001b[40m\u001b[1;31mo\u001b[0m\u001b[40m\u001b[1;30mo\u001b[0m\u001b[40m\u001b[1;32mo\u001b[0m\u001b[40m\u001b[1;32mo\u001b[0m\u001b[40m\u001b[1;32mo\u001b[0m\u001b[40m\u001b[1;30mo\u001b[0m\u001b[40m\u001b[1;32mo\u001b[0m\u001b[40m\u001b[1;32mo\u001b[0m\u001b[40m\u001b[1;30mo\u001b[0m\u001b[40m\u001b[1;32mo\u001b[0m\u001b[40m\u001b[1;32mo\u001b[0m\u001b[40m\u001b[1;32mo\u001b[0m\u001b[40m\u001b[1;32mo\u001b[0m\u001b[40m\u001b[1;30mo\u001b[0m\u001b[40m\u001b[1;32mo\u001b[0m\u001b[40m\u001b[1;30mo\u001b[0m\u001b[40m\u001b[1;32mo\u001b[0m\u001b[40m\u001b[1;32mo\u001b[0m\u001b[40m\u001b[1;32mo\u001b[0m\u001b[37;42m J8   \u001b[30;47m+======\u001b[0m\r\n",
      "\u001b[37;42m| \u001b[40m\u001b[1;36m1\u001b[0m\u001b[40m\u001b[1;32mo\u001b[0m\u001b[40m\u001b[1;32mo\u001b[0m\u001b[40m\u001b[1;32mo\u001b[0m\u001b[40m\u001b[1;30mo\u001b[0m\u001b[40m\u001b[1;32mo\u001b[0m\u001b[40m\u001b[1;32mo\u001b[0m\u001b[40m\u001b[1;32mo\u001b[0m\u001b[40m\u001b[1;36mo\u001b[0m\u001b[40m\u001b[1;32mo\u001b[0m\u001b[40m\u001b[1;32mo\u001b[0m\u001b[40m\u001b[1;32mo\u001b[0m\u001b[40m\u001b[1;30mo\u001b[0m\u001b[40m\u001b[1;32mo\u001b[0m\u001b[40m\u001b[1;32mo\u001b[0m\u001b[40m\u001b[1;32mo\u001b[0m\u001b[40m\u001b[1;32mo\u001b[0m\u001b[40m\u001b[1;32mo\u001b[0m\u001b[40m\u001b[1;32mo\u001b[0m\u001b[40m\u001b[1;30mo\u001b[0m\u001b[37;42m  PoE \u001b[30;47m|   Net\u001b[0m\r\n",
      "\u001b[37;42m| \u001b[30;47m Wi \u001b[37;42m                   \u001b[37;40moo\u001b[42m \u001b[30;47m+======\u001b[0m\r\n",
      "\u001b[37;42m| \u001b[30;47m Fi \u001b[37;42m \u001b[1mPi Model 4B  V1.2\u001b[22m \u001b[37;40moo\u001b[42m      |\u001b[0m\r\n",
      "\u001b[37;42m|        \u001b[30;47m,----.\u001b[42m               \u001b[30;47m+====\u001b[0m\r\n",
      "\u001b[37;42m| \u001b[40m|D|\u001b[42m    \u001b[30;47m|SoC |\u001b[42m               \u001b[30;47m|USB3\u001b[0m\r\n",
      "\u001b[37;42m| \u001b[40m|S|\u001b[42m    \u001b[30;47m|    |\u001b[42m               \u001b[30;47m+====\u001b[0m\r\n",
      "\u001b[37;42m| \u001b[40m|I|\u001b[42m    \u001b[30;47m`----'\u001b[37;42m                  |\u001b[0m\r\n",
      "\u001b[37;42m|                   \u001b[40m|C|\u001b[42m       \u001b[30;47m+====\u001b[0m\r\n",
      "\u001b[37;42m|                   \u001b[40m|S|\u001b[42m       \u001b[30;47m|USB2\u001b[0m\r\n",
      "\u001b[37;42m| \u001b[30;47mpwr\u001b[37;42m   \u001b[30;47m|HD|\u001b[37;42m   \u001b[30;47m|HD|\u001b[37;42m \u001b[40m|I||A|\u001b[42m    \u001b[30;47m+====\u001b[0m\r\n",
      "\u001b[37;42m`-\u001b[30;47m| |\u001b[37;42m---\u001b[30;47m|MI|\u001b[37;42m---\u001b[30;47m|MI|\u001b[37;42m----\u001b[40m|V|\u001b[42m-------'\u001b[0m\r\n",
      "\r\n",
      "\u001b[1mRevision           \u001b[0m: b03112\r\n",
      "\u001b[1mSoC                \u001b[0m: BCM2711\r\n",
      "\u001b[1mRAM                \u001b[0m: 2048Mb\r\n",
      "\u001b[1mStorage            \u001b[0m: MicroSD\r\n",
      "\u001b[1mUSB ports          \u001b[0m: 4 \u001b[33m(excluding power)\u001b[0m\r\n",
      "\u001b[1mEthernet ports     \u001b[0m: 1\r\n",
      "\u001b[1mWi-fi              \u001b[0m: True\r\n",
      "\u001b[1mBluetooth          \u001b[0m: True\r\n",
      "\u001b[1mCamera ports (CSI) \u001b[0m: 1\r\n",
      "\u001b[1mDisplay ports (DSI)\u001b[0m: 1\r\n",
      "\r\n",
      "\u001b[1mJ8\u001b[0m:\r\n",
      "\u001b[1;36m   3V3\u001b[0m  (1)\u001b[0m (2) \u001b[0m \u001b[1;31m5V    \u001b[0m\r\n",
      "\u001b[1;32m GPIO2\u001b[0m  (3)\u001b[0m (4) \u001b[0m \u001b[1;31m5V    \u001b[0m\r\n",
      "\u001b[1;32m GPIO3\u001b[0m  (5)\u001b[0m (6) \u001b[0m \u001b[1;30mGND   \u001b[0m\r\n",
      "\u001b[1;32m GPIO4\u001b[0m  (7)\u001b[0m (8) \u001b[0m \u001b[1;32mGPIO14\u001b[0m\r\n",
      "\u001b[1;30m   GND\u001b[0m  (9)\u001b[0m (10)\u001b[0m \u001b[1;32mGPIO15\u001b[0m\r\n",
      "\u001b[1;32mGPIO17\u001b[0m (11)\u001b[0m (12)\u001b[0m \u001b[1;32mGPIO18\u001b[0m\r\n",
      "\u001b[1;32mGPIO27\u001b[0m (13)\u001b[0m (14)\u001b[0m \u001b[1;30mGND   \u001b[0m\r\n",
      "\u001b[1;32mGPIO22\u001b[0m (15)\u001b[0m (16)\u001b[0m \u001b[1;32mGPIO23\u001b[0m\r\n",
      "\u001b[1;36m   3V3\u001b[0m (17)\u001b[0m (18)\u001b[0m \u001b[1;32mGPIO24\u001b[0m\r\n",
      "\u001b[1;32mGPIO10\u001b[0m (19)\u001b[0m (20)\u001b[0m \u001b[1;30mGND   \u001b[0m\r\n",
      "\u001b[1;32m GPIO9\u001b[0m (21)\u001b[0m (22)\u001b[0m \u001b[1;32mGPIO25\u001b[0m\r\n",
      "\u001b[1;32mGPIO11\u001b[0m (23)\u001b[0m (24)\u001b[0m \u001b[1;32mGPIO8 \u001b[0m\r\n",
      "\u001b[1;30m   GND\u001b[0m (25)\u001b[0m (26)\u001b[0m \u001b[1;32mGPIO7 \u001b[0m\r\n",
      "\u001b[1;32m GPIO0\u001b[0m (27)\u001b[0m (28)\u001b[0m \u001b[1;32mGPIO1 \u001b[0m\r\n",
      "\u001b[1;32m GPIO5\u001b[0m (29)\u001b[0m (30)\u001b[0m \u001b[1;30mGND   \u001b[0m\r\n",
      "\u001b[1;32m GPIO6\u001b[0m (31)\u001b[0m (32)\u001b[0m \u001b[1;32mGPIO12\u001b[0m\r\n",
      "\u001b[1;32mGPIO13\u001b[0m (33)\u001b[0m (34)\u001b[0m \u001b[1;30mGND   \u001b[0m\r\n",
      "\u001b[1;32mGPIO19\u001b[0m (35)\u001b[0m (36)\u001b[0m \u001b[1;32mGPIO16\u001b[0m\r\n",
      "\u001b[1;32mGPIO26\u001b[0m (37)\u001b[0m (38)\u001b[0m \u001b[1;32mGPIO20\u001b[0m\r\n",
      "\u001b[1;30m   GND\u001b[0m (39)\u001b[0m (40)\u001b[0m \u001b[1;32mGPIO21\u001b[0m\r\n",
      "\r\n",
      "For further information, please refer to https://pinout.xyz/\r\n"
     ]
    }
   ],
   "source": [
    "!pinout\n"
   ]
  }
 ],
 "metadata": {
  "kernelspec": {
   "display_name": "Python 3",
   "language": "python",
   "name": "python3"
  },
  "language_info": {
   "codemirror_mode": {
    "name": "ipython",
    "version": 3
   },
   "file_extension": ".py",
   "mimetype": "text/x-python",
   "name": "python",
   "nbconvert_exporter": "python",
   "pygments_lexer": "ipython3",
   "version": "3.7.3"
  }
 },
 "nbformat": 4,
 "nbformat_minor": 4
}
